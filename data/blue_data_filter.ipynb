{
 "cells": [
  {
   "cell_type": "markdown",
   "metadata": {},
   "source": [
    "## Utils"
   ]
  },
  {
   "cell_type": "code",
   "execution_count": 1,
   "metadata": {},
   "outputs": [],
   "source": [
    "import json\n",
    "\n",
    "# File I/O utilities\n",
    "def load_jsonl_to_list(jsonl_file_path):\n",
    "    data_list = []\n",
    "    with open(jsonl_file_path, 'r') as file:\n",
    "        for line in file:\n",
    "            json_obj = json.loads(line)\n",
    "            data_list.append(json_obj)\n",
    "    return data_list\n",
    "\n",
    "# Load dataset\n",
    "def load_dataset_from_file(filename):\n",
    "    #if the file is json\n",
    "    if filename.endswith('.json'):\n",
    "        with open(filename, 'r') as file:\n",
    "            return json.load(file)\n",
    "    elif filename.endswith('.jsonl'):\n",
    "        return load_jsonl_to_list(filename)\n",
    "    else:\n",
    "        raise ValueError(\"Invalid file format. Please provide a .json or .jsonl file.\")\n",
    "\n",
    "# Save dataset\n",
    "def save_dataset(data, filename, convert_to_jsonl=False):\n",
    "    if convert_to_jsonl:\n",
    "        with open(filename, 'w') as file:\n",
    "            for obj in data:\n",
    "                file.write(json.dumps(obj) + '\\n')\n",
    "    else:\n",
    "        with open(filename, 'w') as file:\n",
    "            json.dump(data, file, indent=2)"
   ]
  },
  {
   "cell_type": "code",
   "execution_count": 32,
   "metadata": {},
   "outputs": [],
   "source": [
    "import pandas as pd\n",
    "from matplotlib import pyplot as plt\n",
    "\n",
    "# Frequency table\n",
    "def get_freq_table(df,column):\n",
    "    return df[column].value_counts()\n",
    "    \n",
    "# Bar Plot & \n",
    "def bar_plot(ft, _xlabel, _ylabel):\n",
    "    plt.rcParams[\"figure.figsize\"] = [7, 3.50]\n",
    "    plt.rcParams[\"figure.autolayout\"] = True\n",
    "    font = {'family' : 'DejaVu Sans',\n",
    "            # 'weight' : 'bold',\n",
    "            'size'   : 8}\n",
    "\n",
    "    plt.rc('font', **font)\n",
    "\n",
    "    fig, ax = plt.subplots()\n",
    "    ax.set_xlabel('x-axis', fontsize = 8) \n",
    "    ax.set_ylabel('y-axis', fontsize = 8) \n",
    "\n",
    "    ft.plot(ax=ax, kind='bar', xlabel=_xlabel, ylabel=_ylabel)\n",
    "    return plt\n",
    "\n",
    "# Examples\n",
    "# https://www.geeksforgeeks.org/plot-a-pie-chart-in-python-using-matplotlib/\n",
    "# https://www.nxn.se/valent/making-nicer-looking-pie-charts-with-matplotlib\n"
   ]
  },
  {
   "cell_type": "markdown",
   "metadata": {},
   "source": [
    "## Data"
   ]
  },
  {
   "cell_type": "code",
   "execution_count": 63,
   "metadata": {},
   "outputs": [],
   "source": [
    "import os\n",
    "\n",
    "dir = \"/path/to/data/dir/\"\n",
    "my_cache_dir = \"/path/to/hf/chache/dir/\""
   ]
  },
  {
   "cell_type": "code",
   "execution_count": 2,
   "metadata": {},
   "outputs": [
    {
     "name": "stdout",
     "output_type": "stream",
     "text": [
      "DatasetDict({\n",
      "    train: Dataset({\n",
      "        features: ['uuid', 'input', 'output', 'conversations', 'phase2_data', 'source', 'domain', 'language_source', 'input_length', 'output_length', 'number_turns', 'metadata'],\n",
      "        num_rows: 14577\n",
      "    })\n",
      "})\n",
      "{'uuid': Value(dtype='string', id=None), 'input': Value(dtype='string', id=None), 'output': Value(dtype='string', id=None), 'conversations': [{'from': Value(dtype='string', id=None), 'value': Value(dtype='string', id=None)}], 'phase2_data': Value(dtype='string', id=None), 'source': Value(dtype='string', id=None), 'domain': Value(dtype='string', id=None), 'language_source': Value(dtype='string', id=None), 'input_length': Value(dtype='int64', id=None), 'output_length': Value(dtype='int64', id=None), 'number_turns': Value(dtype='int64', id=None), 'metadata': {'gen_input_configs': {'input_generator': Value(dtype='null', id=None)}}}\n",
      "{'uuid': '2ec741bb-bc26-4470-b2e0-caa54e6c4110', 'input': 'A board game spinner is divided into three parts labeled $A$, $B$  and $C$. The probability of the spinner landing on $A$ is $\\\\frac{1}{3}$ and the probability of the spinner landing on $B$ is $\\\\frac{5}{12}$.  What is the probability of the spinner landing on $C$? Express your answer as a common fraction.', 'output': 'To find the probability of the spinner landing on $C$, I need to subtract the probabilities of the spinner landing on $A$ and $B$ from $1$, since the sum of the probabilities of all possible outcomes is $1$. I can write this as an equation: $P(C) = 1 - P(A) - P(B)$. I know that $P(A) = \\\\frac{1}{3}$ and $P(B) = \\\\frac{5}{12}$, so I can plug those values into the equation and simplify. I get: $P(C) = 1 - \\\\frac{1}{3} - \\\\frac{5}{12} = \\\\frac{12}{12} - \\\\frac{4}{12} - \\\\frac{5}{12} = \\\\frac{3}{12}$. I can reduce this fraction by dividing the numerator and denominator by $3$, and I get: $P(C) = \\\\frac{1}{4}$.', 'conversations': [{'from': 'user', 'value': 'A board game spinner is divided into three parts labeled $A$, $B$  and $C$. The probability of the spinner landing on $A$ is $\\\\frac{1}{3}$ and the probability of the spinner landing on $B$ is $\\\\frac{5}{12}$.  What is the probability of the spinner landing on $C$? Express your answer as a common fraction.'}, {'from': 'assistant', 'value': 'To find the probability of the spinner landing on $C$, I need to subtract the probabilities of the spinner landing on $A$ and $B$ from $1$, since the sum of the probabilities of all possible outcomes is $1$. I can write this as an equation: $P(C) = 1 - P(A) - P(B)$. I know that $P(A) = \\\\frac{1}{3}$ and $P(B) = \\\\frac{5}{12}$, so I can plug those values into the equation and simplify. I get: $P(C) = 1 - \\\\frac{1}{3} - \\\\frac{5}{12} = \\\\frac{12}{12} - \\\\frac{4}{12} - \\\\frac{5}{12} = \\\\frac{3}{12}$. I can reduce this fraction by dividing the numerator and denominator by $3$, and I get: $P(C) = \\\\frac{1}{4}$.'}], 'phase2_data': 'A board game spinner is divided into three parts labeled $A$, $B$  and $C$. The probability of the spinner landing on $A$ is $\\\\frac{1}{3}$ and the probability of the spinner landing on $B$ is $\\\\frac{5}{12}$.  What is the probability of the spinner landing on $C$? Express your answer as a common fraction.\\nTo find the probability of the spinner landing on $C$, I need to subtract the probabilities of the spinner landing on $A$ and $B$ from $1$, since the sum of the probabilities of all possible outcomes is $1$. I can write this as an equation: $P(C) = 1 - P(A) - P(B)$. I know that $P(A) = \\\\frac{1}{3}$ and $P(B) = \\\\frac{5}{12}$, so I can plug those values into the equation and simplify. I get: $P(C) = 1 - \\\\frac{1}{3} - \\\\frac{5}{12} = \\\\frac{12}{12} - \\\\frac{4}{12} - \\\\frac{5}{12} = \\\\frac{3}{12}$. I can reduce this fraction by dividing the numerator and denominator by $3$, and I get: $P(C) = \\\\frac{1}{4}$.', 'source': 'hf/garage-bAInd/Open-Platypus#MATH/PRM-800K', 'domain': 'language', 'language_source': 'en', 'input_length': 305, 'output_length': 604, 'number_turns': 1, 'metadata': {'gen_input_configs': {'input_generator': None}}}\n",
      "# of samples in original dataset: 14577\n"
     ]
    }
   ],
   "source": [
    "# Original data\n",
    "from datasets import load_dataset\n",
    "import os\n",
    "\n",
    "dataset_path = os.path.join(dir,\"1_openplatypus.jsonl\")\n",
    "dataset = load_dataset(\"json\", data_files=dataset_path,  num_proc=os.cpu_count(), cache_dir=my_cache_dir)\n",
    "\n",
    "print(dataset)\n",
    "print(dataset[\"train\"].features)\n",
    "print(dataset[\"train\"][0])\n",
    "samples_original = len(dataset[\"train\"])\n",
    "print(f\"# of samples in original dataset: {samples_original}\")"
   ]
  },
  {
   "cell_type": "code",
   "execution_count": 3,
   "metadata": {},
   "outputs": [
    {
     "name": "stdout",
     "output_type": "stream",
     "text": [
      "DatasetDict({\n",
      "    train: Dataset({\n",
      "        features: ['uuid', 'input', 'output', 'conversations', 'phase2_data', 'source', 'domain', 'language_source', 'input_length', 'output_length', 'number_turns', 'metadata', 'intent', 'knowledge', 'difficulty', 'input_quality', 'input_quality_explanation', 'task_category', 'language_identify', 'judge_quality_score', 'judge_quality_explanation', 'min_neighbor_distance', 'repeat_count', 'min_similar_uuid'],\n",
      "        num_rows: 14577\n",
      "    })\n",
      "})\n",
      "{'uuid': Value(dtype='string', id=None), 'input': Value(dtype='string', id=None), 'output': Value(dtype='string', id=None), 'conversations': [{'from': Value(dtype='string', id=None), 'value': Value(dtype='string', id=None)}], 'phase2_data': Value(dtype='string', id=None), 'source': Value(dtype='string', id=None), 'domain': Value(dtype='string', id=None), 'language_source': Value(dtype='string', id=None), 'input_length': Value(dtype='int64', id=None), 'output_length': Value(dtype='int64', id=None), 'number_turns': Value(dtype='int64', id=None), 'metadata': {'gen_input_configs': {'input_generator': Value(dtype='null', id=None)}, 'label_model': Sequence(feature=Value(dtype='string', id=None), length=-1, id=None)}, 'intent': [{'mistralai/Mistral-7B-Instruct-v0.3': Value(dtype='string', id=None)}], 'knowledge': [{'mistralai/Mistral-7B-Instruct-v0.3': Value(dtype='string', id=None)}], 'difficulty': [{'mistralai/Mistral-7B-Instruct-v0.3': Value(dtype='string', id=None)}], 'input_quality': [{'mistralai/Mistral-7B-Instruct-v0.3': Value(dtype='string', id=None)}], 'input_quality_explanation': [{'mistralai/Mistral-7B-Instruct-v0.3': Value(dtype='string', id=None)}], 'task_category': [{'mistralai/Mistral-7B-Instruct-v0.3': Value(dtype='string', id=None)}], 'language_identify': Value(dtype='string', id=None), 'judge_quality_score': [{'mistralai/Mistral-7B-Instruct-v0.3': Value(dtype='string', id=None)}], 'judge_quality_explanation': [{'mistralai/Mistral-7B-Instruct-v0.3': Value(dtype='string', id=None)}], 'min_neighbor_distance': Value(dtype='float64', id=None), 'repeat_count': Value(dtype='int64', id=None), 'min_similar_uuid': Value(dtype='string', id=None)}\n",
      "{'uuid': '2ec741bb-bc26-4470-b2e0-caa54e6c4110', 'input': 'A board game spinner is divided into three parts labeled $A$, $B$  and $C$. The probability of the spinner landing on $A$ is $\\\\frac{1}{3}$ and the probability of the spinner landing on $B$ is $\\\\frac{5}{12}$.  What is the probability of the spinner landing on $C$? Express your answer as a common fraction.', 'output': 'To find the probability of the spinner landing on $C$, I need to subtract the probabilities of the spinner landing on $A$ and $B$ from $1$, since the sum of the probabilities of all possible outcomes is $1$. I can write this as an equation: $P(C) = 1 - P(A) - P(B)$. I know that $P(A) = \\\\frac{1}{3}$ and $P(B) = \\\\frac{5}{12}$, so I can plug those values into the equation and simplify. I get: $P(C) = 1 - \\\\frac{1}{3} - \\\\frac{5}{12} = \\\\frac{12}{12} - \\\\frac{4}{12} - \\\\frac{5}{12} = \\\\frac{3}{12}$. I can reduce this fraction by dividing the numerator and denominator by $3$, and I get: $P(C) = \\\\frac{1}{4}$.', 'conversations': [{'from': 'user', 'value': 'A board game spinner is divided into three parts labeled $A$, $B$  and $C$. The probability of the spinner landing on $A$ is $\\\\frac{1}{3}$ and the probability of the spinner landing on $B$ is $\\\\frac{5}{12}$.  What is the probability of the spinner landing on $C$? Express your answer as a common fraction.'}, {'from': 'assistant', 'value': 'To find the probability of the spinner landing on $C$, I need to subtract the probabilities of the spinner landing on $A$ and $B$ from $1$, since the sum of the probabilities of all possible outcomes is $1$. I can write this as an equation: $P(C) = 1 - P(A) - P(B)$. I know that $P(A) = \\\\frac{1}{3}$ and $P(B) = \\\\frac{5}{12}$, so I can plug those values into the equation and simplify. I get: $P(C) = 1 - \\\\frac{1}{3} - \\\\frac{5}{12} = \\\\frac{12}{12} - \\\\frac{4}{12} - \\\\frac{5}{12} = \\\\frac{3}{12}$. I can reduce this fraction by dividing the numerator and denominator by $3$, and I get: $P(C) = \\\\frac{1}{4}$.'}], 'phase2_data': 'A board game spinner is divided into three parts labeled $A$, $B$  and $C$. The probability of the spinner landing on $A$ is $\\\\frac{1}{3}$ and the probability of the spinner landing on $B$ is $\\\\frac{5}{12}$.  What is the probability of the spinner landing on $C$? Express your answer as a common fraction.\\nTo find the probability of the spinner landing on $C$, I need to subtract the probabilities of the spinner landing on $A$ and $B$ from $1$, since the sum of the probabilities of all possible outcomes is $1$. I can write this as an equation: $P(C) = 1 - P(A) - P(B)$. I know that $P(A) = \\\\frac{1}{3}$ and $P(B) = \\\\frac{5}{12}$, so I can plug those values into the equation and simplify. I get: $P(C) = 1 - \\\\frac{1}{3} - \\\\frac{5}{12} = \\\\frac{12}{12} - \\\\frac{4}{12} - \\\\frac{5}{12} = \\\\frac{3}{12}$. I can reduce this fraction by dividing the numerator and denominator by $3$, and I get: $P(C) = \\\\frac{1}{4}$.', 'source': 'hf/garage-bAInd/Open-Platypus#MATH/PRM-800K', 'domain': 'language', 'language_source': 'en', 'input_length': 305, 'output_length': 604, 'number_turns': 1, 'metadata': {'gen_input_configs': {'input_generator': None}, 'label_model': ['mistralai/Mistral-7B-Instruct-v0.3']}, 'intent': [{'mistralai/Mistral-7B-Instruct-v0.3': 'The user wants to find the probability of the spinner landing on part C, given the probabilities of landing on parts A and B'}], 'knowledge': [{'mistralai/Mistral-7B-Instruct-v0.3': 'To solve this problem, the models need to know the basic principles of probability, specifically the sum of probabilities of all possible outcomes should equal 1'}], 'difficulty': [{'mistralai/Mistral-7B-Instruct-v0.3': 'easy'}], 'input_quality': [{'mistralai/Mistral-7B-Instruct-v0.3': 'excellent'}], 'input_quality_explanation': [{'mistralai/Mistral-7B-Instruct-v0.3': 'The user query is clear, specific, and well-articulated. It provides all the necessary information for understanding the problem, including the probabilities of the spinner landing on each section. The user is asking for the probability of the spinner landing on section C, which is not explicitly stated in the query but can be calculated given the probabilities of sections A and B.'}], 'task_category': [{'mistralai/Mistral-7B-Instruct-v0.3': 'Math'}], 'language_identify': 'EN', 'judge_quality_score': [{'mistralai/Mistral-7B-Instruct-v0.3': '5'}], 'judge_quality_explanation': [{'mistralai/Mistral-7B-Instruct-v0.3': 'The response accurately follows the instruction by finding the probability of the spinner landing on $C$ by subtracting the probabilities of the spinner landing on $A$ and $B$ from $1$. The information provided in the response is correct, and the answer is logically structured and easy to understand. The response also includes a clear explanation of the steps taken to arrive at the answer.'}], 'min_neighbor_distance': 0.2315223217010498, 'repeat_count': 0, 'min_similar_uuid': None}\n",
      "# of samples in original dataset: 14577\n"
     ]
    }
   ],
   "source": [
    "# Labeled data\n",
    "from datasets import load_dataset\n",
    "import os\n",
    "\n",
    "dataset_path = os.path.join(dir,\"1_openplatypus_difficulty_quality_category_language_sample-quality_fi_distance.jsonl\")\n",
    "dataset = load_dataset(\"json\", data_files=dataset_path, num_proc=os.cpu_count(), cache_dir=my_cache_dir)\n",
    "\n",
    "print(dataset)\n",
    "print(dataset[\"train\"].features)\n",
    "print(dataset[\"train\"][0])\n",
    "samples_labeled = len(dataset[\"train\"])\n",
    "print(f\"# of samples in original dataset: {samples_labeled}\")"
   ]
  },
  {
   "cell_type": "markdown",
   "metadata": {},
   "source": [
    "## Data Analysis"
   ]
  },
  {
   "cell_type": "markdown",
   "metadata": {},
   "source": [
    "#### Filtering\n",
    "- Filter out invalid samples\n",
    "- What do we consider invalid?\n",
    "    - Null or empty samples (instructions or responses)\n",
    "    - Null values in labels\n"
   ]
  },
  {
   "cell_type": "code",
   "execution_count": 15,
   "metadata": {},
   "outputs": [
    {
     "name": "stdout",
     "output_type": "stream",
     "text": [
      "# of samples after applying filter: 13050\n"
     ]
    }
   ],
   "source": [
    "def filter_out_invalid_samples(example): \n",
    "    return (\n",
    "        # Validate input and output\n",
    "        example['input'] is not None\n",
    "        and example['output'] is not None\n",
    "        and len(example['input']) > 0\n",
    "        and len(example['output']) > 0\n",
    "        # and not example['input'].endswith(':') # Magpai applies this filer, but why?\n",
    "        # Remove instances with null tags\n",
    "        and example['input_quality'] is not None\n",
    "        and example['judge_quality_score'] is not None\n",
    "        and example['difficulty'] is not None\n",
    "        and example['task_category'] is not None\n",
    "    )\n",
    "\n",
    "filtered_invalids = dataset['train'].filter(filter_out_invalid_samples)\n",
    "print(f\"# of samples after applying filter: {len(filtered_invalids)}\")"
   ]
  },
  {
   "cell_type": "code",
   "execution_count": 16,
   "metadata": {},
   "outputs": [
    {
     "name": "stdout",
     "output_type": "stream",
     "text": [
      "Dataset({\n",
      "    features: ['uuid', 'input', 'output', 'conversations', 'phase2_data', 'source', 'domain', 'language_source', 'input_length', 'output_length', 'number_turns', 'metadata', 'intent', 'knowledge', 'difficulty', 'input_quality', 'input_quality_explanation', 'task_category', 'language_identify', 'judge_quality_score', 'judge_quality_explanation', 'min_neighbor_distance', 'repeat_count', 'min_similar_uuid'],\n",
      "    num_rows: 13050\n",
      "})\n"
     ]
    }
   ],
   "source": [
    "# unpack labels assigned by one model ( mistralai/Mistral-7B-Instruct-v0.3) for simplicity\n",
    "def unpack_scores(example):\n",
    "    example[\"input_quality\"] = example['input_quality'][0]['mistralai/Mistral-7B-Instruct-v0.3']\n",
    "    example[\"difficulty\"] = example['difficulty'][0]['mistralai/Mistral-7B-Instruct-v0.3']\n",
    "    example[\"judge_quality_score\"] = example['judge_quality_score'][0]['mistralai/Mistral-7B-Instruct-v0.3']\n",
    "    example[\"task_category\"] = example['task_category'][0]['mistralai/Mistral-7B-Instruct-v0.3']\n",
    "    return example\n",
    "\n",
    "ds_unpacked = filtered_invalids.map(unpack_scores)\n",
    "print(ds_unpacked)"
   ]
  },
  {
   "cell_type": "markdown",
   "metadata": {},
   "source": [
    "#### Filter out samples with tags with invalid format\n",
    "- Examples of invalid tags for 'judge_quality_score': '5' '4' '[4,5,5]' '[4]' '[5,5,5]' '[5]' '2' '[4,5]' '0' '3' '1'"
   ]
  },
  {
   "cell_type": "code",
   "execution_count": 21,
   "metadata": {},
   "outputs": [
    {
     "data": {
      "application/vnd.jupyter.widget-view+json": {
       "model_id": "31ad30b5676d424f845a25b79244cdda",
       "version_major": 2,
       "version_minor": 0
      },
      "text/plain": [
       "Filter:   0%|          | 0/13050 [00:00<?, ? examples/s]"
      ]
     },
     "metadata": {},
     "output_type": "display_data"
    },
    {
     "name": "stdout",
     "output_type": "stream",
     "text": [
      "Dataset({\n",
      "    features: ['uuid', 'input', 'output', 'conversations', 'phase2_data', 'source', 'domain', 'language_source', 'input_length', 'output_length', 'number_turns', 'metadata', 'intent', 'knowledge', 'difficulty', 'input_quality', 'input_quality_explanation', 'task_category', 'language_identify', 'judge_quality_score', 'judge_quality_explanation', 'min_neighbor_distance', 'repeat_count', 'min_similar_uuid'],\n",
      "    num_rows: 12858\n",
      "})\n"
     ]
    }
   ],
   "source": [
    "def validate_scores_format(example):\n",
    "    return (\n",
    "        example[\"input_quality\"] in ['very poor','poor','average','good','excellent']\n",
    "        and example[\"difficulty\"] in ['very easy','easy','medium','hard','very hard']\n",
    "        and example[\"judge_quality_score\"] in ['1','2','3','4','5']\n",
    "        and len(example[\"task_category\"]) > 0\n",
    "        # and not example['input'].endswith(':') # check if it has effect with magpie data\n",
    "        # and example['instruct_reward'] > -10\n",
    "    )\n",
    "ds_valid_format = ds_unpacked.filter(validate_scores_format)\n",
    "print(ds_valid_format)"
   ]
  },
  {
   "cell_type": "code",
   "execution_count": 22,
   "metadata": {},
   "outputs": [
    {
     "data": {
      "text/html": [
       "<div>\n",
       "<style scoped>\n",
       "    .dataframe tbody tr th:only-of-type {\n",
       "        vertical-align: middle;\n",
       "    }\n",
       "\n",
       "    .dataframe tbody tr th {\n",
       "        vertical-align: top;\n",
       "    }\n",
       "\n",
       "    .dataframe thead th {\n",
       "        text-align: right;\n",
       "    }\n",
       "</style>\n",
       "<table border=\"1\" class=\"dataframe\">\n",
       "  <thead>\n",
       "    <tr style=\"text-align: right;\">\n",
       "      <th></th>\n",
       "      <th>uuid</th>\n",
       "      <th>input</th>\n",
       "      <th>output</th>\n",
       "      <th>input_quality</th>\n",
       "      <th>difficulty</th>\n",
       "      <th>judge_quality_score</th>\n",
       "      <th>task_category</th>\n",
       "    </tr>\n",
       "  </thead>\n",
       "  <tbody>\n",
       "    <tr>\n",
       "      <th>0</th>\n",
       "      <td>2ec741bb-bc26-4470-b2e0-caa54e6c4110</td>\n",
       "      <td>A board game spinner is divided into three par...</td>\n",
       "      <td>To find the probability of the spinner landing...</td>\n",
       "      <td>excellent</td>\n",
       "      <td>easy</td>\n",
       "      <td>5</td>\n",
       "      <td>Math</td>\n",
       "    </tr>\n",
       "    <tr>\n",
       "      <th>1</th>\n",
       "      <td>342182ae-4a7d-4c54-8aa7-99c00467a7f5</td>\n",
       "      <td>My school's math club has 6 boys and 8 girls. ...</td>\n",
       "      <td>I need to choose 6 people out of 14, and the o...</td>\n",
       "      <td>good</td>\n",
       "      <td>easy</td>\n",
       "      <td>5</td>\n",
       "      <td>Math</td>\n",
       "    </tr>\n",
       "    <tr>\n",
       "      <th>2</th>\n",
       "      <td>f027f177-6eb0-472c-93c5-4df3f04a1842</td>\n",
       "      <td>How many 4-letter words with at least one cons...</td>\n",
       "      <td>First we count the number of all 4-letter word...</td>\n",
       "      <td>excellent</td>\n",
       "      <td>easy</td>\n",
       "      <td>5</td>\n",
       "      <td>Reasoning</td>\n",
       "    </tr>\n",
       "    <tr>\n",
       "      <th>3</th>\n",
       "      <td>f0496a98-8cc6-4a12-876d-011276c1d5f2</td>\n",
       "      <td>Melinda will roll two standard six-sided dice ...</td>\n",
       "      <td>She can do this if and only if at least one of...</td>\n",
       "      <td>excellent</td>\n",
       "      <td>easy</td>\n",
       "      <td>5</td>\n",
       "      <td>Math</td>\n",
       "    </tr>\n",
       "    <tr>\n",
       "      <th>4</th>\n",
       "      <td>8f6f0e72-701d-4d62-ab93-e2dc927ce0f0</td>\n",
       "      <td>Let $p$ be the probability that, in the proces...</td>\n",
       "      <td>Think of the problem as a sequence of H's and ...</td>\n",
       "      <td>excellent</td>\n",
       "      <td>medium</td>\n",
       "      <td>5</td>\n",
       "      <td>Math</td>\n",
       "    </tr>\n",
       "  </tbody>\n",
       "</table>\n",
       "</div>"
      ],
      "text/plain": [
       "                                   uuid  \\\n",
       "0  2ec741bb-bc26-4470-b2e0-caa54e6c4110   \n",
       "1  342182ae-4a7d-4c54-8aa7-99c00467a7f5   \n",
       "2  f027f177-6eb0-472c-93c5-4df3f04a1842   \n",
       "3  f0496a98-8cc6-4a12-876d-011276c1d5f2   \n",
       "4  8f6f0e72-701d-4d62-ab93-e2dc927ce0f0   \n",
       "\n",
       "                                               input  \\\n",
       "0  A board game spinner is divided into three par...   \n",
       "1  My school's math club has 6 boys and 8 girls. ...   \n",
       "2  How many 4-letter words with at least one cons...   \n",
       "3  Melinda will roll two standard six-sided dice ...   \n",
       "4  Let $p$ be the probability that, in the proces...   \n",
       "\n",
       "                                              output input_quality difficulty  \\\n",
       "0  To find the probability of the spinner landing...     excellent       easy   \n",
       "1  I need to choose 6 people out of 14, and the o...          good       easy   \n",
       "2  First we count the number of all 4-letter word...     excellent       easy   \n",
       "3  She can do this if and only if at least one of...     excellent       easy   \n",
       "4  Think of the problem as a sequence of H's and ...     excellent     medium   \n",
       "\n",
       "  judge_quality_score task_category  \n",
       "0                   5          Math  \n",
       "1                   5          Math  \n",
       "2                   5     Reasoning  \n",
       "3                   5          Math  \n",
       "4                   5          Math  "
      ]
     },
     "execution_count": 22,
     "metadata": {},
     "output_type": "execute_result"
    }
   ],
   "source": [
    "# Pandas conversion\n",
    "df = ds_valid_format.to_pandas()\n",
    "df.loc[:,['uuid','input', 'output', 'input_quality', 'difficulty', 'judge_quality_score', 'task_category']].head()"
   ]
  },
  {
   "cell_type": "markdown",
   "metadata": {},
   "source": [
    "##### Task Categories"
   ]
  },
  {
   "cell_type": "code",
   "execution_count": 38,
   "metadata": {},
   "outputs": [
    {
     "name": "stdout",
     "output_type": "stream",
     "text": [
      "categories: ['Math' 'Reasoning' 'Data analysis' 'Information seeking'\n",
      " 'Coding & Debugging' 'Editing' 'Advice seeking' 'Role playing'\n",
      " 'Legal Advice seeking' 'Law' 'Planning']\n"
     ]
    }
   ],
   "source": [
    "# Get unique values from column 'task' (from magpie)\n",
    "llm_categories = df['task_category'].unique()\n",
    "\n",
    "# Print output\n",
    "print(f\"categories: {llm_categories}\")\n"
   ]
  },
  {
   "cell_type": "code",
   "execution_count": 34,
   "metadata": {},
   "outputs": [
    {
     "name": "stdout",
     "output_type": "stream",
     "text": [
      "task_category\n",
      "Math                    11856\n",
      "Reasoning                 550\n",
      "Coding & Debugging        196\n",
      "Data analysis             129\n",
      "Information seeking        67\n",
      "Advice seeking             45\n",
      "Editing                     6\n",
      "Role playing                5\n",
      "Law                         2\n",
      "Legal Advice seeking        1\n",
      "Planning                    1\n",
      "Name: count, dtype: int64\n"
     ]
    },
    {
     "data": {
      "image/png": "[encoded data removed]",
      "text/plain": [
       "<Figure size 700x350 with 1 Axes>"
      ]
     },
     "metadata": {},
     "output_type": "display_data"
    }
   ],
   "source": [
    "import pandas as pd\n",
    "from matplotlib import pyplot as plt\n",
    "\n",
    "ft = get_freq_table(df,'task_category')\n",
    "print(ft)\n",
    "\n",
    "plt = bar_plot(ft, 'task', 'samples')\n",
    "plt.show()"
   ]
  },
  {
   "cell_type": "markdown",
   "metadata": {},
   "source": [
    "##### Input Quality & Sample Quality"
   ]
  },
  {
   "cell_type": "code",
   "execution_count": 37,
   "metadata": {},
   "outputs": [
    {
     "name": "stdout",
     "output_type": "stream",
     "text": [
      "Input Quality labels: ['excellent' 'good' 'average' 'poor' 'very poor']\n",
      "Sample quality scores: ['5' '4' '2' '3' '1']\n"
     ]
    }
   ],
   "source": [
    "# Get unique values from column 'task' (from magpie)\n",
    "llm_qual = df['input_quality'].unique()\n",
    "\n",
    "llm_qual_sample = df['judge_quality_score'].unique()\n",
    "\n",
    "# Print output\n",
    "print(f\"Input Quality labels: {llm_qual}\")\n",
    "print(f\"Sample quality scores: {llm_qual_sample}\")"
   ]
  },
  {
   "cell_type": "code",
   "execution_count": 41,
   "metadata": {},
   "outputs": [
    {
     "name": "stdout",
     "output_type": "stream",
     "text": [
      "input_quality\n",
      "good         6369\n",
      "excellent    4863\n",
      "average      1578\n",
      "poor           43\n",
      "very poor       5\n",
      "Name: count, dtype: int64\n"
     ]
    },
    {
     "data": {
      "image/png": "[encoded data removed]",
      "text/plain": [
       "<Figure size 700x350 with 1 Axes>"
      ]
     },
     "metadata": {},
     "output_type": "display_data"
    }
   ],
   "source": [
    "import pandas as pd\n",
    "from matplotlib import pyplot as plt\n",
    "\n",
    "ft = get_freq_table(df,'input_quality')\n",
    "print(ft)\n",
    "\n",
    "plt = bar_plot(ft, 'input quality', 'samples')\n",
    "plt.show()"
   ]
  },
  {
   "cell_type": "markdown",
   "metadata": {},
   "source": [
    "Observations:\n",
    "- These results are relevant for data quality filtering.\n",
    "- What input quality should we take for filtering? Option A: 'good' and 'excellent', Option B: 'excellent'\n",
    "\n",
    "Magpie Reference:\n",
    "- \"First, both datasets are of high quality, with the majority of instances rated ‘average’ or higher. In addition, the overall quality of MAGPIE-Pro surpasses that of MAGPIE-Air.\""
   ]
  },
  {
   "cell_type": "code",
   "execution_count": 42,
   "metadata": {},
   "outputs": [
    {
     "name": "stdout",
     "output_type": "stream",
     "text": [
      "judge_quality_score\n",
      "5    10802\n",
      "4     1868\n",
      "1      122\n",
      "3       62\n",
      "2        4\n",
      "Name: count, dtype: int64\n"
     ]
    },
    {
     "data": {
      "image/png": "[encoded data removed]",
      "text/plain": [
       "<Figure size 700x350 with 1 Axes>"
      ]
     },
     "metadata": {},
     "output_type": "display_data"
    }
   ],
   "source": [
    "import pandas as pd\n",
    "from matplotlib import pyplot as plt\n",
    "\n",
    "ft = get_freq_table(df,'judge_quality_score')\n",
    "print(ft)\n",
    "\n",
    "plt = bar_plot(ft, 'sample quality', 'samples')\n",
    "plt.show()"
   ]
  },
  {
   "cell_type": "markdown",
   "metadata": {},
   "source": [
    "Observations:\n",
    "- These results are relevant for data quality filtering.\n",
    "- Most instances were labeled with a score of 5.\n",
    "- What sample quality should we take for filtering?\n",
    "\n",
    "Magpie Reference:\n",
    "- They did not label sample quality by using LLM as a judge, for responses they used the reward model difference."
   ]
  },
  {
   "cell_type": "markdown",
   "metadata": {},
   "source": [
    "##### Input Difficulty"
   ]
  },
  {
   "cell_type": "code",
   "execution_count": 39,
   "metadata": {},
   "outputs": [
    {
     "name": "stdout",
     "output_type": "stream",
     "text": [
      "Dificulty labels: ['easy' 'medium' 'very easy' 'hard' 'very hard']\n"
     ]
    }
   ],
   "source": [
    "llm_qual = df['difficulty'].unique()\n",
    "# Print output\n",
    "print(f\"Dificulty labels: {llm_qual}\")"
   ]
  },
  {
   "cell_type": "code",
   "execution_count": 40,
   "metadata": {},
   "outputs": [
    {
     "name": "stdout",
     "output_type": "stream",
     "text": [
      "difficulty\n",
      "easy         6520\n",
      "medium       5645\n",
      "very easy     605\n",
      "hard           85\n",
      "very hard       3\n",
      "Name: count, dtype: int64\n"
     ]
    },
    {
     "data": {
      "image/png": "[encoded data removed]",
      "text/plain": [
       "<Figure size 700x350 with 1 Axes>"
      ]
     },
     "metadata": {},
     "output_type": "display_data"
    }
   ],
   "source": [
    "import pandas as pd\n",
    "from matplotlib import pyplot as plt\n",
    "\n",
    "ft = get_freq_table(df,'difficulty')\n",
    "print(ft)\n",
    "\n",
    "plt = bar_plot(ft, 'difficulty', 'samples')\n",
    "plt.show()"
   ]
  },
  {
   "cell_type": "markdown",
   "metadata": {},
   "source": [
    "Observations:\n",
    "- Majority of instances are rated as easy or medium\n",
    "- Note: Magpie's quality filtering function, is not using 'difficulty' as metric.\n",
    "\n",
    "Magpie Reference:\n",
    "- \"We observe that the distributions across difficulty levels are similar for MAGPIE-Air and MAGPIE-Pro. Most instances' difficulty is easy or medium.\"\n",
    "\n"
   ]
  },
  {
   "cell_type": "markdown",
   "metadata": {},
   "source": [
    "#### Instruction Similarity"
   ]
  },
  {
   "cell_type": "code",
   "execution_count": 44,
   "metadata": {},
   "outputs": [
    {
     "data": {
      "text/html": [
       "<div>\n",
       "<style scoped>\n",
       "    .dataframe tbody tr th:only-of-type {\n",
       "        vertical-align: middle;\n",
       "    }\n",
       "\n",
       "    .dataframe tbody tr th {\n",
       "        vertical-align: top;\n",
       "    }\n",
       "\n",
       "    .dataframe thead th {\n",
       "        text-align: right;\n",
       "    }\n",
       "</style>\n",
       "<table border=\"1\" class=\"dataframe\">\n",
       "  <thead>\n",
       "    <tr style=\"text-align: right;\">\n",
       "      <th></th>\n",
       "      <th>min_neighbor_distance</th>\n",
       "      <th>repeat_count</th>\n",
       "      <th>min_similar_uuid</th>\n",
       "    </tr>\n",
       "  </thead>\n",
       "  <tbody>\n",
       "    <tr>\n",
       "      <th>0</th>\n",
       "      <td>0.231522</td>\n",
       "      <td>0</td>\n",
       "      <td>None</td>\n",
       "    </tr>\n",
       "    <tr>\n",
       "      <th>1</th>\n",
       "      <td>0.130077</td>\n",
       "      <td>0</td>\n",
       "      <td>None</td>\n",
       "    </tr>\n",
       "    <tr>\n",
       "      <th>2</th>\n",
       "      <td>0.174045</td>\n",
       "      <td>0</td>\n",
       "      <td>None</td>\n",
       "    </tr>\n",
       "    <tr>\n",
       "      <th>3</th>\n",
       "      <td>0.368189</td>\n",
       "      <td>0</td>\n",
       "      <td>None</td>\n",
       "    </tr>\n",
       "    <tr>\n",
       "      <th>4</th>\n",
       "      <td>0.547976</td>\n",
       "      <td>0</td>\n",
       "      <td>None</td>\n",
       "    </tr>\n",
       "  </tbody>\n",
       "</table>\n",
       "</div>"
      ],
      "text/plain": [
       "   min_neighbor_distance  repeat_count min_similar_uuid\n",
       "0               0.231522             0             None\n",
       "1               0.130077             0             None\n",
       "2               0.174045             0             None\n",
       "3               0.368189             0             None\n",
       "4               0.547976             0             None"
      ]
     },
     "execution_count": 44,
     "metadata": {},
     "output_type": "execute_result"
    }
   ],
   "source": [
    "df.loc[:,['min_neighbor_distance','repeat_count','min_similar_uuid']].head()"
   ]
  },
  {
   "cell_type": "code",
   "execution_count": 49,
   "metadata": {},
   "outputs": [
    {
     "data": {
      "text/plain": [
       "<Axes: ylabel='Frequency'>"
      ]
     },
     "execution_count": 49,
     "metadata": {},
     "output_type": "execute_result"
    },
    {
     "data": {
      "image/png": "[encoded data removed]",
      "text/plain": [
       "<Figure size 700x350 with 1 Axes>"
      ]
     },
     "metadata": {},
     "output_type": "display_data"
    }
   ],
   "source": [
    "import pandas as pd\n",
    "from matplotlib import pyplot as plt\n",
    "\n",
    "# ft = get_freq_table(df,'min_neighbor_distance')\n",
    "# print(ft)\n",
    "\n",
    "# plt = bar_plot(ft, 'min neighbor distance', 'samples')\n",
    "# plt.show()\n",
    "\n",
    "df['min_neighbor_distance'].plot.hist(bins=8, alpha=0.5)"
   ]
  },
  {
   "cell_type": "markdown",
   "metadata": {},
   "source": [
    "Important for quality filtering:\n",
    "- Magpie's removal of repetitions (phase II) process keeps track of duplicates at the instance level.\n",
    "- If an instance has duplicates\n",
    "    - the 'uuid' value that identifies the instance is copied to its own 'min_similar_uuid' key\n",
    "    - the 'uuid' value that identifies the instance is assigned to the 'min_similar_uuid' of its duplicates\n",
    "- The 'min_neighbor_distance' is what defines if an instance should be labeled as having duplicates or as a duplicate. \n",
    "- Instances with zero duplicates have a 'None' value in 'min_similar_uuid'\n",
    "\n",
    "Example\n",
    "\n",
    "Instance A\n",
    "```\n",
    "\"uuid\": \"c2b50dd9-5f3a-4c29-aabc-fe41ff9ab2a9\"\n",
    "\"min_similar_uuid\": \"c2b50dd9-5f3a-4c29-aabc-fe41ff9ab2a9\"\n",
    "```\n",
    "\n",
    "Instance B (duplicate of A)\n",
    "```\n",
    "\"uuid\": \"d1a1f53d-0687-4880-8d87-8ee7be63809f\"\n",
    "\"min_similar_uuid\": \"c2b50dd9-5f3a-4c29-aabc-fe41ff9ab2a9\"\n",
    "```\n",
    "Instance C (duplicate of A)\n",
    "```\n",
    "\"uuid\": \"5f269e5e-9bd7-4c7a-8e89-c7499eb3a2e6\"\n",
    "\"min_similar_uuid\": \"c2b50dd9-5f3a-4c29-aabc-fe41ff9ab2a9\"\n",
    "```\n",
    "\n",
    "Quality filter should keep instances with:\n",
    "\n",
    "```\n",
    "example['min_similar_uuid'] is None\n",
    "or example['uuid'] == example['min_similar_uuid']\n",
    "```\n",
    "\n"
   ]
  },
  {
   "cell_type": "markdown",
   "metadata": {},
   "source": [
    "#### High Quality Filtering Example\n",
    "\n",
    "This example is very close to magpie's notebook\n",
    "\n",
    "A quality filter must be applied to each dataset, the filter values might be different per dataset.\n",
    "\n",
    "- input_quality: take samples labeled as 'good' and 'excellent'\n",
    "- judge_quality_score: take samples labeled with highest score: '5' \n",
    "- Repetition: removed samples with repeated inputs\n",
    "\n",
    "This filter is not considering 'difficulty' or length (input, output)."
   ]
  },
  {
   "cell_type": "code",
   "execution_count": 50,
   "metadata": {},
   "outputs": [
    {
     "name": "stdout",
     "output_type": "stream",
     "text": [
      "Dataset({\n",
      "    features: ['uuid', 'input', 'output', 'conversations', 'phase2_data', 'source', 'domain', 'language_source', 'input_length', 'output_length', 'number_turns', 'metadata', 'intent', 'knowledge', 'difficulty', 'input_quality', 'input_quality_explanation', 'task_category', 'language_identify', 'judge_quality_score', 'judge_quality_explanation', 'min_neighbor_distance', 'repeat_count', 'min_similar_uuid'],\n",
      "    num_rows: 12858\n",
      "})\n"
     ]
    }
   ],
   "source": [
    "print(ds_valid_format)"
   ]
  },
  {
   "cell_type": "code",
   "execution_count": 56,
   "metadata": {},
   "outputs": [
    {
     "name": "stdout",
     "output_type": "stream",
     "text": [
      "Dataset({\n",
      "    features: ['uuid', 'input', 'output', 'conversations', 'phase2_data', 'source', 'domain', 'language_source', 'input_length', 'output_length', 'number_turns', 'metadata', 'intent', 'knowledge', 'difficulty', 'input_quality', 'input_quality_explanation', 'task_category', 'language_identify', 'judge_quality_score', 'judge_quality_explanation', 'min_neighbor_distance', 'repeat_count', 'min_similar_uuid'],\n",
      "    num_rows: 9464\n",
      "})\n"
     ]
    }
   ],
   "source": [
    "def high_quality_filter(example):\n",
    "    return (\n",
    "        example['input_quality'] in ['good', 'excellent']\n",
    "        and example['judge_quality_score'] in ['5']\n",
    "        # and example['instruct_reward'] > -10\n",
    "        and (\n",
    "            example['min_similar_uuid'] is None\n",
    "            or example['uuid'] == example['min_similar_uuid'] \n",
    "        )\n",
    "    )\n",
    "filtered_dataset = ds_valid_format.filter(high_quality_filter)\n",
    "print(filtered_dataset)\n",
    "\n"
   ]
  }
 ],
 "metadata": {
  "kernelspec": {
   "display_name": "datarev",
   "language": "python",
   "name": "python3"
  },
  "language_info": {
   "codemirror_mode": {
    "name": "ipython",
    "version": 3
   },
   "file_extension": ".py",
   "mimetype": "text/x-python",
   "name": "python",
   "nbconvert_exporter": "python",
   "pygments_lexer": "ipython3",
   "version": "3.10.14"
  }
 },
 "nbformat": 4,
 "nbformat_minor": 2
}
